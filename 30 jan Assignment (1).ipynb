{
 "cells": [
  {
   "cell_type": "code",
   "execution_count": 1,
   "id": "59d13cbc-ab67-4801-9c56-debff11cab9b",
   "metadata": {},
   "outputs": [],
   "source": [
    "# Q1.Ans:-"
   ]
  },
  {
   "cell_type": "code",
   "execution_count": 5,
   "id": "59b27ab3-3e23-458a-a69b-c61bfb0583bd",
   "metadata": {},
   "outputs": [
    {
     "name": "stdin",
     "output_type": "stream",
     "text": [
      "Enter the percentage 30\n"
     ]
    },
    {
     "name": "stdout",
     "output_type": "stream",
     "text": [
      "D\n"
     ]
    }
   ],
   "source": [
    "Marks=int(input(\"Enter the percentage\"))\n",
    "if Marks>90:\n",
    "# Here A,B,C,D are grade    \n",
    "    print('A')\n",
    "elif 80<Marks<=90:\n",
    "    print('B')\n",
    "elif 60<=Marks<=80:\n",
    "    print('C')\n",
    "elif Marks<60:   \n",
    "    print('D')\n",
    "           \n",
    "    "
   ]
  },
  {
   "cell_type": "code",
   "execution_count": null,
   "id": "9c250ed1-8688-4ba4-95b1-c5d0116ed340",
   "metadata": {},
   "outputs": [],
   "source": [
    "# Q2.Ans:-"
   ]
  },
  {
   "cell_type": "code",
   "execution_count": 6,
   "id": "e90dcc91-2d62-4859-8d48-904a67c18fdc",
   "metadata": {},
   "outputs": [
    {
     "name": "stdin",
     "output_type": "stream",
     "text": [
      "Enter the cost price of bike in Rs. 90000\n"
     ]
    },
    {
     "name": "stdout",
     "output_type": "stream",
     "text": [
      "10%\n"
     ]
    }
   ],
   "source": [
    "Price=int(input(\"Enter the cost price of bike in Rs.\"))\n",
    "if Price>100000:\n",
    "# Here 15%,10%,5% are the road tax  \n",
    "    print('15%')\n",
    "elif 50000<Price<=100000:\n",
    "    print('10%')\n",
    "elif Price<=50000:\n",
    "    print('5%')\n",
    "    "
   ]
  },
  {
   "cell_type": "code",
   "execution_count": null,
   "id": "7496b1c9-c6b9-4fe2-8f29-5b2baea43580",
   "metadata": {},
   "outputs": [],
   "source": [
    "# Q3.Ans:-"
   ]
  },
  {
   "cell_type": "code",
   "execution_count": 7,
   "id": "f7bb9bfc-9593-4ba9-99bd-43f40bbd6759",
   "metadata": {},
   "outputs": [
    {
     "name": "stdin",
     "output_type": "stream",
     "text": [
      "Enter the city name Agra\n"
     ]
    },
    {
     "name": "stdout",
     "output_type": "stream",
     "text": [
      "Taj Mahal\n"
     ]
    }
   ],
   "source": [
    "City=input(\"Enter the city name\")\n",
    "# Here Red Fort, Taj Mahal,Jal Mahal are Monument that city\n",
    "if City=='Delhi':\n",
    "    print(\"Red Fort\")\n",
    "elif City=='Agra':\n",
    "    print(\"Taj Mahal\")\n",
    "elif City=='Jaipur':\n",
    "    print(\"Jal Mahal\")"
   ]
  },
  {
   "cell_type": "code",
   "execution_count": null,
   "id": "2a00e74b-e7d6-4aa5-858b-ea89345851e1",
   "metadata": {},
   "outputs": [],
   "source": [
    "# Q4.Ans:-"
   ]
  },
  {
   "cell_type": "code",
   "execution_count": null,
   "id": "4540af8c-29e2-46ca-bfa6-fc891f935ab3",
   "metadata": {},
   "outputs": [],
   "source": [
    "Num=0\n",
    "count=0\n",
    "while Num<=10:\n",
    "    if Num%3==0:\n",
    "        count=count+1\n",
    "        Num=Num+1\n",
    "    continue    \n",
    "print(count)        \n",
    "    "
   ]
  },
  {
   "cell_type": "code",
   "execution_count": null,
   "id": "72c51914-e4e4-4a9b-9e69-27ac7d1db589",
   "metadata": {},
   "outputs": [],
   "source": [
    "#actully i dont understand what is logic of this question"
   ]
  },
  {
   "cell_type": "code",
   "execution_count": null,
   "id": "157eb9d9-605f-439e-9e51-758b52df018d",
   "metadata": {},
   "outputs": [],
   "source": [
    "# Q5.Ans:-"
   ]
  },
  {
   "cell_type": "code",
   "execution_count": null,
   "id": "78f5f27c-920d-447d-adab-947adc04bf9d",
   "metadata": {},
   "outputs": [],
   "source": [
    "'''  while loop is used to repeatedly execute a block of code as long as a certain condition is met. \n",
    " The structure of a while loop is as follows:\n",
    " while condition:   \n",
    "The condition is evaluated before each iteration, and if it is True, \n",
    " the code within the loop is executed. If the condition is False,\n",
    "the loop terminates and execution continues with the next statement after the loop.\n",
    "'''"
   ]
  },
  {
   "cell_type": "code",
   "execution_count": 1,
   "id": "3fc051d0-21e5-4228-b6eb-e0bfc3e63b45",
   "metadata": {},
   "outputs": [
    {
     "name": "stdout",
     "output_type": "stream",
     "text": [
      "1\n",
      "2\n",
      "3\n",
      "4\n",
      "5\n"
     ]
    }
   ],
   "source": [
    "#Example of while loop\n",
    "i = 1\n",
    "while i < 6:\n",
    "  print(i)\n",
    "  i += 1"
   ]
  },
  {
   "cell_type": "code",
   "execution_count": null,
   "id": "07efcbe5-6844-4375-85eb-4c330805aab2",
   "metadata": {},
   "outputs": [],
   "source": [
    "# Q6. Ans:-"
   ]
  },
  {
   "cell_type": "code",
   "execution_count": 2,
   "id": "f2c22b73-c055-4e0b-80e8-e53a726dff04",
   "metadata": {},
   "outputs": [
    {
     "name": "stdout",
     "output_type": "stream",
     "text": [
      "* * * * * \n",
      "  * * * * \n",
      "    * * * \n",
      "      * * \n",
      "        * \n"
     ]
    }
   ],
   "source": [
    "rows = 5\n",
    "i = rows\n",
    "while i >= 1:\n",
    "    j = rows\n",
    "    while j > i:\n",
    "        # display space\n",
    "        print(' ', end=' ')\n",
    "        j -= 1\n",
    "    k = 1\n",
    "    while k <= i:\n",
    "        print('*', end=' ')\n",
    "        k += 1\n",
    "    print()\n",
    "    i -= 1"
   ]
  },
  {
   "cell_type": "code",
   "execution_count": null,
   "id": "859de8cf-6d96-40be-9c5c-e3fed90900a5",
   "metadata": {},
   "outputs": [],
   "source": [
    "# Q7. Ans:-"
   ]
  },
  {
   "cell_type": "code",
   "execution_count": 3,
   "id": "714fce3e-ebb7-4358-9774-5bcb613bbacc",
   "metadata": {},
   "outputs": [
    {
     "name": "stdout",
     "output_type": "stream",
     "text": [
      "10\n",
      "9\n",
      "8\n",
      "7\n",
      "6\n",
      "5\n",
      "4\n",
      "3\n",
      "2\n",
      "1\n"
     ]
    }
   ],
   "source": [
    "i = 10\n",
    "while i > 0:\n",
    "    print(i)\n",
    "    i = i - 1"
   ]
  },
  {
   "cell_type": "code",
   "execution_count": null,
   "id": "4b66b767-eff7-48c5-8ddb-3a568a927b4b",
   "metadata": {},
   "outputs": [],
   "source": [
    "# Q8 Ans:-"
   ]
  },
  {
   "cell_type": "code",
   "execution_count": 4,
   "id": "5f76520b-4ece-4014-8fb5-3f5fd0076a36",
   "metadata": {},
   "outputs": [
    {
     "name": "stdout",
     "output_type": "stream",
     "text": [
      "10\n",
      "9\n",
      "8\n",
      "7\n",
      "6\n",
      "5\n",
      "4\n",
      "3\n",
      "2\n",
      "1\n"
     ]
    }
   ],
   "source": [
    "i = 10\n",
    "while i > 0:\n",
    "    print(i)\n",
    "    i = i - 1"
   ]
  },
  {
   "cell_type": "code",
   "execution_count": null,
   "id": "4c186d79-79d3-4543-964f-1742920cbc8a",
   "metadata": {},
   "outputs": [],
   "source": []
  }
 ],
 "metadata": {
  "kernelspec": {
   "display_name": "Python 3 (ipykernel)",
   "language": "python",
   "name": "python3"
  },
  "language_info": {
   "codemirror_mode": {
    "name": "ipython",
    "version": 3
   },
   "file_extension": ".py",
   "mimetype": "text/x-python",
   "name": "python",
   "nbconvert_exporter": "python",
   "pygments_lexer": "ipython3",
   "version": "3.10.8"
  }
 },
 "nbformat": 4,
 "nbformat_minor": 5
}
